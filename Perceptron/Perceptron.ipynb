{
 "cells": [
  {
   "cell_type": "code",
   "execution_count": 1,
   "metadata": {},
   "outputs": [],
   "source": [
    "import numpy as np\n",
    "import tensorflow.keras as keras"
   ]
  },
  {
   "cell_type": "code",
   "execution_count": 2,
   "metadata": {},
   "outputs": [],
   "source": [
    "class Perceptron:\n",
    "    def __init__(self, N, alpha=0.1):\n",
    "        self.W = np.random.randn(N + 1) / np.sqrt(N) # weight initialization\n",
    "        self.alpha = alpha\n",
    "    \n",
    "    def step(self, x):\n",
    "        return 1 if x > 0 else 0\n",
    "\n",
    "    def fit(self, X, y, epochs=10):\n",
    "        X = np.c_[X, np.ones(X.shape[0])] # Add final column of 1's for Bias\n",
    "        \n",
    "        for epoch in np.arange(epochs):\n",
    "            for (x, target) in zip(X, y):\n",
    "                weight_sum = (x * self.W).sum()\n",
    "                p = self.step(weight_sum)\n",
    "                \n",
    "                if p != target: # update error\n",
    "                    error = p - target\n",
    "                    self.W += -self.alpha * error * x\n",
    "\n",
    "    def predict(self, X, addBias=True):\n",
    "        X = np.atleast_2d(X) \n",
    "        X = np.c_[X, np.ones((X.shape[0]))]\n",
    "\n",
    "        return self.step(np.dot(X, self.W))"
   ]
  },
  {
   "cell_type": "code",
   "execution_count": 3,
   "metadata": {},
   "outputs": [],
   "source": [
    "X = np.array([[0, 0], [0, 1], [1, 0], [1, 1]])\n",
    "\n",
    "y_or  = np.array([[0], [1], [1], [1]]) # OR\n",
    "y_and = np.array([[0], [0], [0], [1]]) # AND\n",
    "y_xor = np.array([[0], [1], [1], [0]]) # XOR"
   ]
  },
  {
   "cell_type": "code",
   "execution_count": 4,
   "metadata": {},
   "outputs": [
    {
     "name": "stdout",
     "output_type": "stream",
     "text": [
      "[INFO] training perceptron for OR...\n",
      "[INFO] data=[0 0], real=0, pred=0\n",
      "[INFO] data=[0 1], real=1, pred=1\n",
      "[INFO] data=[1 0], real=1, pred=1\n",
      "[INFO] data=[1 1], real=1, pred=1\n"
     ]
    }
   ],
   "source": [
    "print(\"[INFO] training perceptron for OR...\")\n",
    "p = Perceptron(X.shape[1], alpha=0.1)\n",
    "p.fit(X, y_or, epochs=3000)\n",
    "\n",
    "for (x, target) in zip(X, y_or):\n",
    "    pred = p.predict(x)\n",
    "    print(f\"[INFO] data={x}, real={target[0]}, pred={pred}\")"
   ]
  },
  {
   "cell_type": "code",
   "execution_count": 5,
   "metadata": {},
   "outputs": [
    {
     "name": "stdout",
     "output_type": "stream",
     "text": [
      "[INFO] training perceptron for AND...\n",
      "[INFO] data=[0 0], real=0, pred=0\n",
      "[INFO] data=[0 1], real=0, pred=0\n",
      "[INFO] data=[1 0], real=0, pred=0\n",
      "[INFO] data=[1 1], real=1, pred=1\n"
     ]
    }
   ],
   "source": [
    "print(\"[INFO] training perceptron for AND...\")\n",
    "p.fit(X, y_and, epochs=3000)\n",
    "\n",
    "for (x, target) in zip(X, y_and):\n",
    "    pred = p.predict(x)\n",
    "    print(f\"[INFO] data={x}, real={target[0]}, pred={pred}\")"
   ]
  },
  {
   "cell_type": "code",
   "execution_count": 6,
   "metadata": {},
   "outputs": [
    {
     "name": "stdout",
     "output_type": "stream",
     "text": [
      "[INFO] training perceptron for XOR...\n",
      "[INFO] data=[0 0], real=0, pred=1\n",
      "[INFO] data=[0 1], real=1, pred=1\n",
      "[INFO] data=[1 0], real=1, pred=0\n",
      "[INFO] data=[1 1], real=0, pred=1\n"
     ]
    }
   ],
   "source": [
    "print(\"[INFO] training perceptron for XOR...\")\n",
    "p.fit(X, y_xor, epochs=3000)\n",
    "\n",
    "for (x, target) in zip(X, y_xor):\n",
    "    pred = p.predict(x)\n",
    "    print(f\"[INFO] data={x}, real={target[0]}, pred={pred}\")"
   ]
  },
  {
   "cell_type": "markdown",
   "metadata": {},
   "source": [
    "---"
   ]
  },
  {
   "cell_type": "markdown",
   "metadata": {},
   "source": [
    "### Multilayer Perceptron Keras"
   ]
  },
  {
   "cell_type": "code",
   "execution_count": 78,
   "metadata": {},
   "outputs": [],
   "source": [
    "def multilayer_perceptron():\n",
    "    model = keras.Sequential()\n",
    "    model.add(keras.layers.Dense(2, kernel_initializer='ones', activation='sigmoid', input_dim=2))\n",
    "    model.add(keras.layers.Dense(1, activation='sigmoid'))\n",
    "\n",
    "    opt = keras.optimizers.SGD(learning_rate=0.1)\n",
    "    model.compile(optimizer=opt, loss='mse', metrics=['acc'])\n",
    "    return model"
   ]
  },
  {
   "cell_type": "code",
   "execution_count": 79,
   "metadata": {},
   "outputs": [
    {
     "name": "stdout",
     "output_type": "stream",
     "text": [
      "[INFO] training perceptron for OR...\n",
      "[INFO] data=[0 0], real=0, pred=0\n",
      "[INFO] data=[0 1], real=1, pred=1\n",
      "[INFO] data=[1 0], real=1, pred=1\n",
      "[INFO] data=[1 1], real=1, pred=1\n"
     ]
    }
   ],
   "source": [
    "perceptron = multilayer_perceptron()\n",
    "perceptron.fit(X, y_or, epochs=3000, verbose=False)\n",
    "\n",
    "print(\"[INFO] training perceptron for OR...\")\n",
    "for (x, target) in zip(X, y_or):\n",
    "    pred = perceptron.predict(x.reshape(1, -1))\n",
    "    pred = int(pred > 0.5)\n",
    "    print(f\"[INFO] data={x}, real={target[0]}, pred={pred}\")"
   ]
  },
  {
   "cell_type": "code",
   "execution_count": 83,
   "metadata": {},
   "outputs": [
    {
     "name": "stdout",
     "output_type": "stream",
     "text": [
      "[INFO] training perceptron for AND...\n",
      "[INFO] data=[0 0], real=0, pred=0\n",
      "[INFO] data=[0 1], real=0, pred=0\n",
      "[INFO] data=[1 0], real=0, pred=0\n",
      "[INFO] data=[1 1], real=1, pred=1\n"
     ]
    }
   ],
   "source": [
    "perceptron = multilayer_perceptron()\n",
    "perceptron.fit(X, y_and, epochs=3000, verbose=False)\n",
    "\n",
    "print(\"[INFO] training perceptron for AND...\")\n",
    "for (x, target) in zip(X, y_and):\n",
    "    pred = perceptron.predict(x.reshape(1, -1))\n",
    "    pred = int(pred > 0.5)\n",
    "    print(f\"[INFO] data={x}, real={target[0]}, pred={pred}\")"
   ]
  },
  {
   "cell_type": "code",
   "execution_count": 85,
   "metadata": {},
   "outputs": [
    {
     "name": "stdout",
     "output_type": "stream",
     "text": [
      "[INFO] training perceptron for XOR...\n",
      "[INFO] data=[0 0], real=0, pred=0\n",
      "[INFO] data=[0 1], real=1, pred=1\n",
      "[INFO] data=[1 0], real=1, pred=1\n",
      "[INFO] data=[1 1], real=0, pred=0\n"
     ]
    }
   ],
   "source": [
    "perceptron = multilayer_perceptron()\n",
    "perceptron.fit(X, y_xor, epochs=6000, verbose=False)\n",
    "\n",
    "print(\"[INFO] training perceptron for XOR...\")\n",
    "for (x, target) in zip(X, y_xor):\n",
    "    pred = perceptron.predict(x.reshape(1, -1))\n",
    "    pred = int(pred > 0.5)\n",
    "    print(f\"[INFO] data={x}, real={target[0]}, pred={pred}\")"
   ]
  },
  {
   "cell_type": "code",
   "execution_count": null,
   "metadata": {},
   "outputs": [],
   "source": []
  }
 ],
 "metadata": {
  "kernelspec": {
   "display_name": "Python 3",
   "language": "python",
   "name": "python3"
  },
  "language_info": {
   "codemirror_mode": {
    "name": "ipython",
    "version": 3
   },
   "file_extension": ".py",
   "mimetype": "text/x-python",
   "name": "python",
   "nbconvert_exporter": "python",
   "pygments_lexer": "ipython3",
   "version": "3.7.4"
  }
 },
 "nbformat": 4,
 "nbformat_minor": 4
}
